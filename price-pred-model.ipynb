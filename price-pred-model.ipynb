{
 "cells": [
  {
   "cell_type": "code",
   "execution_count": 1,
   "id": "dee3cf06",
   "metadata": {},
   "outputs": [],
   "source": [
    "import pandas as pd"
   ]
  },
  {
   "cell_type": "code",
   "execution_count": 2,
   "id": "cdb0a149",
   "metadata": {},
   "outputs": [],
   "source": [
    "file_path = r'C:\\Users\\HP\\Documents\\my-data/amazon_cleaned.csv'"
   ]
  },
  {
   "cell_type": "code",
   "execution_count": 3,
   "id": "e2cc8ec3",
   "metadata": {},
   "outputs": [],
   "source": [
    "df = pd.read_csv(file_path)"
   ]
  },
  {
   "cell_type": "code",
   "execution_count": 4,
   "id": "977ae628",
   "metadata": {},
   "outputs": [
    {
     "data": {
      "text/html": [
       "<div>\n",
       "<style scoped>\n",
       "    .dataframe tbody tr th:only-of-type {\n",
       "        vertical-align: middle;\n",
       "    }\n",
       "\n",
       "    .dataframe tbody tr th {\n",
       "        vertical-align: top;\n",
       "    }\n",
       "\n",
       "    .dataframe thead th {\n",
       "        text-align: right;\n",
       "    }\n",
       "</style>\n",
       "<table border=\"1\" class=\"dataframe\">\n",
       "  <thead>\n",
       "    <tr style=\"text-align: right;\">\n",
       "      <th></th>\n",
       "      <th>product_id</th>\n",
       "      <th>product_name</th>\n",
       "      <th>discounted_price</th>\n",
       "      <th>actual_price</th>\n",
       "      <th>discount_percentage</th>\n",
       "      <th>rating</th>\n",
       "      <th>rating_count</th>\n",
       "      <th>Main category</th>\n",
       "      <th>Sub category</th>\n",
       "    </tr>\n",
       "  </thead>\n",
       "  <tbody>\n",
       "    <tr>\n",
       "      <th>0</th>\n",
       "      <td>B07JW9H4J1</td>\n",
       "      <td>Wayona Nylon Braided USB to Lightning Fast Cha...</td>\n",
       "      <td>399.0</td>\n",
       "      <td>1099.0</td>\n",
       "      <td>0.64</td>\n",
       "      <td>4.2</td>\n",
       "      <td>24269.0</td>\n",
       "      <td>Computers &amp; Accessories</td>\n",
       "      <td>Accessories &amp; Peripherals</td>\n",
       "    </tr>\n",
       "    <tr>\n",
       "      <th>1</th>\n",
       "      <td>B098NS6PVG</td>\n",
       "      <td>Ambrane Unbreakable 60W / 3A Fast Charging 1.5...</td>\n",
       "      <td>199.0</td>\n",
       "      <td>349.0</td>\n",
       "      <td>0.43</td>\n",
       "      <td>4.0</td>\n",
       "      <td>43994.0</td>\n",
       "      <td>Computers &amp; Accessories</td>\n",
       "      <td>Accessories &amp; Peripherals</td>\n",
       "    </tr>\n",
       "    <tr>\n",
       "      <th>2</th>\n",
       "      <td>B096MSW6CT</td>\n",
       "      <td>Sounce Fast Phone Charging Cable &amp; Data Sync U...</td>\n",
       "      <td>199.0</td>\n",
       "      <td>1899.0</td>\n",
       "      <td>0.90</td>\n",
       "      <td>3.9</td>\n",
       "      <td>7928.0</td>\n",
       "      <td>Computers &amp; Accessories</td>\n",
       "      <td>Accessories &amp; Peripherals</td>\n",
       "    </tr>\n",
       "    <tr>\n",
       "      <th>3</th>\n",
       "      <td>B08HDJ86NZ</td>\n",
       "      <td>boAt Deuce USB 300 2 in 1 Type-C &amp; Micro USB S...</td>\n",
       "      <td>329.0</td>\n",
       "      <td>699.0</td>\n",
       "      <td>0.53</td>\n",
       "      <td>4.2</td>\n",
       "      <td>94363.0</td>\n",
       "      <td>Computers &amp; Accessories</td>\n",
       "      <td>Accessories &amp; Peripherals</td>\n",
       "    </tr>\n",
       "    <tr>\n",
       "      <th>4</th>\n",
       "      <td>B08CF3B7N1</td>\n",
       "      <td>Portronics Konnect L 1.2M Fast Charging 3A 8 P...</td>\n",
       "      <td>154.0</td>\n",
       "      <td>399.0</td>\n",
       "      <td>0.61</td>\n",
       "      <td>4.2</td>\n",
       "      <td>16905.0</td>\n",
       "      <td>Computers &amp; Accessories</td>\n",
       "      <td>Accessories &amp; Peripherals</td>\n",
       "    </tr>\n",
       "  </tbody>\n",
       "</table>\n",
       "</div>"
      ],
      "text/plain": [
       "   product_id                                       product_name  \\\n",
       "0  B07JW9H4J1  Wayona Nylon Braided USB to Lightning Fast Cha...   \n",
       "1  B098NS6PVG  Ambrane Unbreakable 60W / 3A Fast Charging 1.5...   \n",
       "2  B096MSW6CT  Sounce Fast Phone Charging Cable & Data Sync U...   \n",
       "3  B08HDJ86NZ  boAt Deuce USB 300 2 in 1 Type-C & Micro USB S...   \n",
       "4  B08CF3B7N1  Portronics Konnect L 1.2M Fast Charging 3A 8 P...   \n",
       "\n",
       "   discounted_price  actual_price  discount_percentage  rating  rating_count  \\\n",
       "0             399.0        1099.0                 0.64     4.2       24269.0   \n",
       "1             199.0         349.0                 0.43     4.0       43994.0   \n",
       "2             199.0        1899.0                 0.90     3.9        7928.0   \n",
       "3             329.0         699.0                 0.53     4.2       94363.0   \n",
       "4             154.0         399.0                 0.61     4.2       16905.0   \n",
       "\n",
       "             Main category               Sub category  \n",
       "0  Computers & Accessories  Accessories & Peripherals  \n",
       "1  Computers & Accessories  Accessories & Peripherals  \n",
       "2  Computers & Accessories  Accessories & Peripherals  \n",
       "3  Computers & Accessories  Accessories & Peripherals  \n",
       "4  Computers & Accessories  Accessories & Peripherals  "
      ]
     },
     "execution_count": 4,
     "metadata": {},
     "output_type": "execute_result"
    }
   ],
   "source": [
    "df.head(5)"
   ]
  },
  {
   "cell_type": "code",
   "execution_count": 5,
   "id": "18a2e612",
   "metadata": {},
   "outputs": [],
   "source": [
    "from sklearn.linear_model import LinearRegression, Lasso, Ridge\n",
    "from sklearn.metrics import accuracy_score, r2_score\n",
    "from sklearn.preprocessing import StandardScaler\n",
    "from sklearn.model_selection import train_test_split"
   ]
  },
  {
   "cell_type": "code",
   "execution_count": 10,
   "id": "c35768ce",
   "metadata": {},
   "outputs": [
    {
     "data": {
      "text/plain": [
       "product_id             0\n",
       "product_name           0\n",
       "discounted_price       0\n",
       "actual_price           0\n",
       "discount_percentage    0\n",
       "rating                 0\n",
       "rating_count           0\n",
       "Main category          0\n",
       "Sub category           0\n",
       "dtype: int64"
      ]
     },
     "execution_count": 10,
     "metadata": {},
     "output_type": "execute_result"
    }
   ],
   "source": [
    "# find null values\n",
    "df.isna().sum()"
   ]
  },
  {
   "cell_type": "code",
   "execution_count": 11,
   "id": "1274d049",
   "metadata": {},
   "outputs": [],
   "source": [
    "# fix rating_count null values\n",
    "df['rating_count'].fillna(df['rating_count'].mode()[0], inplace=True)"
   ]
  },
  {
   "cell_type": "code",
   "execution_count": 12,
   "id": "dcfc5e10",
   "metadata": {},
   "outputs": [
    {
     "data": {
      "text/plain": [
       "product_id             0\n",
       "product_name           0\n",
       "discounted_price       0\n",
       "actual_price           0\n",
       "discount_percentage    0\n",
       "rating                 0\n",
       "rating_count           0\n",
       "Main category          0\n",
       "Sub category           0\n",
       "dtype: int64"
      ]
     },
     "execution_count": 12,
     "metadata": {},
     "output_type": "execute_result"
    }
   ],
   "source": [
    "# check\n",
    "df.isna().sum()"
   ]
  },
  {
   "cell_type": "code",
   "execution_count": 13,
   "id": "0f958bb1",
   "metadata": {},
   "outputs": [],
   "source": [
    "# prepare the X and y values for the model\n",
    "X = df[['rating', 'rating_count', 'actual_price']]\n",
    "y = df['discounted_price']\n",
    "\n",
    "# spilt the x and y values\n",
    "X_train, X_test, y_train, y_test = train_test_split(X, y, train_size=0.75, random_state=28)"
   ]
  },
  {
   "cell_type": "code",
   "execution_count": 14,
   "id": "c9559e6b",
   "metadata": {},
   "outputs": [],
   "source": [
    "# apply model\n",
    "lr_model = LinearRegression()\n",
    "lr_model.fit(X_train, y_train)\n",
    "y1_pred = lr_model.predict(X_test)"
   ]
  },
  {
   "cell_type": "code",
   "execution_count": 15,
   "id": "2a84a69e",
   "metadata": {},
   "outputs": [
    {
     "name": "stdout",
     "output_type": "stream",
     "text": [
      "The r2 score for the Linear Regression model was:  0.8888176340484897\n"
     ]
    }
   ],
   "source": [
    "# evaluate this model\n",
    "r2_scoring = r2_score(y_test, y1_pred)\n",
    "print('The r2 score for the Linear Regression model was: ', r2_scoring)"
   ]
  },
  {
   "cell_type": "code",
   "execution_count": 16,
   "id": "27396620",
   "metadata": {},
   "outputs": [],
   "source": [
    "# try lasso and ridge\n",
    "lasso = Lasso(alpha=1)\n",
    "ridge = Ridge(alpha=1)\n",
    "lasso.fit(X_train, y_train)\n",
    "ridge.fit(X_train, y_train)\n",
    "lasso_ypred = lasso.predict(X_test)\n",
    "ridge_ypred = ridge.predict(X_test)"
   ]
  },
  {
   "cell_type": "code",
   "execution_count": 17,
   "id": "f0c605f6",
   "metadata": {},
   "outputs": [
    {
     "name": "stdout",
     "output_type": "stream",
     "text": [
      "The r2 score for Lasso model was:  0.8888403917062356\n",
      "The r2 score for the Ridge model was:  0.8888219760762661\n"
     ]
    }
   ],
   "source": [
    "# evaluate lasso and ridge models with r2 score\n",
    "lasso_r2 = r2_score(y_test, lasso_ypred)\n",
    "ridge_r2 = r2_score(y_test, ridge_ypred)\n",
    "print('The r2 score for Lasso model was: ', lasso_r2)\n",
    "print('The r2 score for the Ridge model was: ', ridge_r2)"
   ]
  },
  {
   "cell_type": "code",
   "execution_count": 18,
   "id": "7b5cac60",
   "metadata": {},
   "outputs": [],
   "source": [
    "# lets apply the scaler to get more accurate predictions\n",
    "X2 = df[['rating', 'rating_count', 'actual_price']]\n",
    "y2 = df['discounted_price']\n",
    "scaler = StandardScaler()"
   ]
  },
  {
   "cell_type": "code",
   "execution_count": 19,
   "id": "c6360ece",
   "metadata": {},
   "outputs": [],
   "source": [
    "# split these values using the train_test_split\n",
    "X2_train, X2_test, y2_train, y2_test = train_test_split(X2, y2, random_state=28)\n",
    "# apply scaler\n",
    "X2_train_scaled = scaler.fit_transform(X2_train)\n",
    "X2_test_scaled = scaler.transform(X2_test)"
   ]
  },
  {
   "cell_type": "code",
   "execution_count": 20,
   "id": "567c29ac",
   "metadata": {},
   "outputs": [
    {
     "name": "stdout",
     "output_type": "stream",
     "text": [
      "The scaled Linear Regression model r2 score was:  0.8888176340484897\n",
      "The scaled Lasso model r2 score was:  0.8888216119461667\n",
      "The scaled Ridge model r2 score was:  0.8888022411879632\n"
     ]
    }
   ],
   "source": [
    "# apply the models once more\n",
    "lr_model.fit(X2_train_scaled, y2_train)\n",
    "lasso.fit(X2_train_scaled, y2_train)\n",
    "ridge.fit(X2_train_scaled, y2_train)\n",
    "# predict the y values\n",
    "lr_y2pred = lr_model.predict(X2_test_scaled)\n",
    "lasso_y2pred = lasso.predict(X2_test_scaled)\n",
    "ridge_y2pred = ridge.predict(X2_test_scaled)\n",
    "# evaluate the models\n",
    "lr_r2score = r2_score(y2_test, lr_y2pred)\n",
    "lasso_r2score = r2_score(y2_test, lasso_y2pred)\n",
    "ridge_r2score = r2_score(y2_test, ridge_y2pred)\n",
    "print('The scaled Linear Regression model r2 score was: ', lr_r2score)\n",
    "print('The scaled Lasso model r2 score was: ', lasso_r2score)\n",
    "print('The scaled Ridge model r2 score was: ', ridge_r2score)"
   ]
  },
  {
   "cell_type": "code",
   "execution_count": 21,
   "id": "584ee5a3",
   "metadata": {},
   "outputs": [
    {
     "data": {
      "text/plain": [
       "['lasso_model.pkl']"
      ]
     },
     "execution_count": 21,
     "metadata": {},
     "output_type": "execute_result"
    }
   ],
   "source": [
    "# model with the best score was the lasso model so we are going to save it and use it for the streamlit app\n",
    "import joblib\n",
    "joblib.dump(lasso, 'lasso_model.pkl')"
   ]
  },
  {
   "cell_type": "code",
   "execution_count": null,
   "id": "19fed564",
   "metadata": {},
   "outputs": [],
   "source": []
  }
 ],
 "metadata": {
  "kernelspec": {
   "display_name": "Python 3 (ipykernel)",
   "language": "python",
   "name": "python3"
  },
  "language_info": {
   "codemirror_mode": {
    "name": "ipython",
    "version": 3
   },
   "file_extension": ".py",
   "mimetype": "text/x-python",
   "name": "python",
   "nbconvert_exporter": "python",
   "pygments_lexer": "ipython3",
   "version": "3.10.9"
  }
 },
 "nbformat": 4,
 "nbformat_minor": 5
}
