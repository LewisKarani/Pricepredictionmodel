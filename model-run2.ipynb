{
 "cells": [
  {
   "cell_type": "code",
   "execution_count": 1,
   "id": "42c3978c",
   "metadata": {},
   "outputs": [],
   "source": [
    "import pandas as pd"
   ]
  },
  {
   "cell_type": "code",
   "execution_count": 2,
   "id": "158bdc7e",
   "metadata": {},
   "outputs": [
    {
     "data": {
      "text/html": [
       "<div>\n",
       "<style scoped>\n",
       "    .dataframe tbody tr th:only-of-type {\n",
       "        vertical-align: middle;\n",
       "    }\n",
       "\n",
       "    .dataframe tbody tr th {\n",
       "        vertical-align: top;\n",
       "    }\n",
       "\n",
       "    .dataframe thead th {\n",
       "        text-align: right;\n",
       "    }\n",
       "</style>\n",
       "<table border=\"1\" class=\"dataframe\">\n",
       "  <thead>\n",
       "    <tr style=\"text-align: right;\">\n",
       "      <th></th>\n",
       "      <th>product_id</th>\n",
       "      <th>product_name</th>\n",
       "      <th>discounted_price</th>\n",
       "      <th>actual_price</th>\n",
       "      <th>discount_percentage</th>\n",
       "      <th>rating</th>\n",
       "      <th>rating_count</th>\n",
       "      <th>Main category</th>\n",
       "      <th>Sub category</th>\n",
       "    </tr>\n",
       "  </thead>\n",
       "  <tbody>\n",
       "    <tr>\n",
       "      <th>0</th>\n",
       "      <td>B07JW9H4J1</td>\n",
       "      <td>Wayona Nylon Braided USB to Lightning Fast Cha...</td>\n",
       "      <td>399.0</td>\n",
       "      <td>1099.0</td>\n",
       "      <td>0.64</td>\n",
       "      <td>4.2</td>\n",
       "      <td>24269.0</td>\n",
       "      <td>Computers &amp; Accessories</td>\n",
       "      <td>Accessories &amp; Peripherals</td>\n",
       "    </tr>\n",
       "    <tr>\n",
       "      <th>1</th>\n",
       "      <td>B098NS6PVG</td>\n",
       "      <td>Ambrane Unbreakable 60W / 3A Fast Charging 1.5...</td>\n",
       "      <td>199.0</td>\n",
       "      <td>349.0</td>\n",
       "      <td>0.43</td>\n",
       "      <td>4.0</td>\n",
       "      <td>43994.0</td>\n",
       "      <td>Computers &amp; Accessories</td>\n",
       "      <td>Accessories &amp; Peripherals</td>\n",
       "    </tr>\n",
       "    <tr>\n",
       "      <th>2</th>\n",
       "      <td>B096MSW6CT</td>\n",
       "      <td>Sounce Fast Phone Charging Cable &amp; Data Sync U...</td>\n",
       "      <td>199.0</td>\n",
       "      <td>1899.0</td>\n",
       "      <td>0.90</td>\n",
       "      <td>3.9</td>\n",
       "      <td>7928.0</td>\n",
       "      <td>Computers &amp; Accessories</td>\n",
       "      <td>Accessories &amp; Peripherals</td>\n",
       "    </tr>\n",
       "    <tr>\n",
       "      <th>3</th>\n",
       "      <td>B08HDJ86NZ</td>\n",
       "      <td>boAt Deuce USB 300 2 in 1 Type-C &amp; Micro USB S...</td>\n",
       "      <td>329.0</td>\n",
       "      <td>699.0</td>\n",
       "      <td>0.53</td>\n",
       "      <td>4.2</td>\n",
       "      <td>94363.0</td>\n",
       "      <td>Computers &amp; Accessories</td>\n",
       "      <td>Accessories &amp; Peripherals</td>\n",
       "    </tr>\n",
       "    <tr>\n",
       "      <th>4</th>\n",
       "      <td>B08CF3B7N1</td>\n",
       "      <td>Portronics Konnect L 1.2M Fast Charging 3A 8 P...</td>\n",
       "      <td>154.0</td>\n",
       "      <td>399.0</td>\n",
       "      <td>0.61</td>\n",
       "      <td>4.2</td>\n",
       "      <td>16905.0</td>\n",
       "      <td>Computers &amp; Accessories</td>\n",
       "      <td>Accessories &amp; Peripherals</td>\n",
       "    </tr>\n",
       "  </tbody>\n",
       "</table>\n",
       "</div>"
      ],
      "text/plain": [
       "   product_id                                       product_name  \\\n",
       "0  B07JW9H4J1  Wayona Nylon Braided USB to Lightning Fast Cha...   \n",
       "1  B098NS6PVG  Ambrane Unbreakable 60W / 3A Fast Charging 1.5...   \n",
       "2  B096MSW6CT  Sounce Fast Phone Charging Cable & Data Sync U...   \n",
       "3  B08HDJ86NZ  boAt Deuce USB 300 2 in 1 Type-C & Micro USB S...   \n",
       "4  B08CF3B7N1  Portronics Konnect L 1.2M Fast Charging 3A 8 P...   \n",
       "\n",
       "   discounted_price  actual_price  discount_percentage  rating  rating_count  \\\n",
       "0             399.0        1099.0                 0.64     4.2       24269.0   \n",
       "1             199.0         349.0                 0.43     4.0       43994.0   \n",
       "2             199.0        1899.0                 0.90     3.9        7928.0   \n",
       "3             329.0         699.0                 0.53     4.2       94363.0   \n",
       "4             154.0         399.0                 0.61     4.2       16905.0   \n",
       "\n",
       "             Main category               Sub category  \n",
       "0  Computers & Accessories  Accessories & Peripherals  \n",
       "1  Computers & Accessories  Accessories & Peripherals  \n",
       "2  Computers & Accessories  Accessories & Peripherals  \n",
       "3  Computers & Accessories  Accessories & Peripherals  \n",
       "4  Computers & Accessories  Accessories & Peripherals  "
      ]
     },
     "execution_count": 2,
     "metadata": {},
     "output_type": "execute_result"
    }
   ],
   "source": [
    "file_path = r'C:\\Users\\HP\\Documents\\my-data/amazon_cleaned.csv'\n",
    "df = pd.read_csv(file_path)\n",
    "df.head(5)"
   ]
  },
  {
   "cell_type": "code",
   "execution_count": 13,
   "id": "772d2452",
   "metadata": {},
   "outputs": [],
   "source": [
    "# import the models \n",
    "from sklearn.model_selection import GridSearchCV\n",
    "from sklearn.linear_model import LogisticRegression\n",
    "from sklearn.svm import SVR\n",
    "from sklearn.tree import DecisionTreeRegressor\n",
    "from sklearn.ensemble import RandomForestRegressor"
   ]
  },
  {
   "cell_type": "code",
   "execution_count": 14,
   "id": "902e7691",
   "metadata": {},
   "outputs": [
    {
     "data": {
      "text/plain": [
       "product_id             0\n",
       "product_name           0\n",
       "discounted_price       0\n",
       "actual_price           0\n",
       "discount_percentage    0\n",
       "rating                 0\n",
       "rating_count           0\n",
       "Main category          0\n",
       "Sub category           0\n",
       "dtype: int64"
      ]
     },
     "execution_count": 14,
     "metadata": {},
     "output_type": "execute_result"
    }
   ],
   "source": [
    "# check for null values\n",
    "df.isna().sum()"
   ]
  },
  {
   "cell_type": "code",
   "execution_count": 15,
   "id": "1ea47c62",
   "metadata": {},
   "outputs": [
    {
     "data": {
      "text/plain": [
       "product_id             0\n",
       "product_name           0\n",
       "discounted_price       0\n",
       "actual_price           0\n",
       "discount_percentage    0\n",
       "rating                 0\n",
       "rating_count           0\n",
       "Main category          0\n",
       "Sub category           0\n",
       "dtype: int64"
      ]
     },
     "execution_count": 15,
     "metadata": {},
     "output_type": "execute_result"
    }
   ],
   "source": [
    "# fill the null values with the most common rating\n",
    "df['rating_count'].fillna(df['rating_count'].mode()[0], inplace=True)\n",
    "df.isna().sum()"
   ]
  },
  {
   "cell_type": "code",
   "execution_count": 16,
   "id": "1a5e4e8b",
   "metadata": {},
   "outputs": [],
   "source": [
    "# define the x and y columns to be used\n",
    "X = df[['discounted_price', 'rating_count', 'discount_percentage', 'rating']]\n",
    "y = df['actual_price']\n",
    "\n",
    "# split the values using train_test_split\n",
    "from sklearn.model_selection import train_test_split\n",
    "X_train, X_test, y_train, y_test = train_test_split(X, y, train_size=0.75, random_state=28)"
   ]
  },
  {
   "cell_type": "code",
   "execution_count": 17,
   "id": "65c69117",
   "metadata": {},
   "outputs": [],
   "source": [
    "# scale the train and test values\n",
    "from sklearn.preprocessing import StandardScaler\n",
    "scaler = StandardScaler()\n",
    "X_train_scaled = scaler.fit_transform(X_train)\n",
    "X_test_scaled = scaler.transform(X_test)"
   ]
  },
  {
   "cell_type": "code",
   "execution_count": 22,
   "id": "a4168ca4",
   "metadata": {},
   "outputs": [],
   "source": [
    "# create a dict for models evaluation\n",
    "models = {\n",
    "    'SVR': SVR(),\n",
    "    'Decision Tree Regressor': DecisionTreeRegressor(),\n",
    "    'Random Forest Regressor': RandomForestRegressor()\n",
    "}"
   ]
  },
  {
   "cell_type": "code",
   "execution_count": 24,
   "id": "b882411f",
   "metadata": {},
   "outputs": [
    {
     "name": "stdout",
     "output_type": "stream",
     "text": [
      "The scoring for SVR: -0.11808040185335433\n",
      "The scoring for Decision Tree Regressor: 0.9411688607705365\n",
      "The scoring for Random Forest Regressor: 0.9554148421387924\n"
     ]
    }
   ],
   "source": [
    "# create a function for the evaluation of the models\n",
    "for name, model in models.items():\n",
    "    model.fit(X_train_scaled, y_train)\n",
    "    print(f'The scoring for {name}: {model.score(X_test_scaled, y_test)}')"
   ]
  },
  {
   "cell_type": "code",
   "execution_count": 26,
   "id": "5be5051d",
   "metadata": {},
   "outputs": [
    {
     "name": "stdout",
     "output_type": "stream",
     "text": [
      "The best model was: RandomForestRegressor(n_estimators=75)\n",
      "The best scoring was: 0.9635764026382849\n"
     ]
    }
   ],
   "source": [
    "# check for the best parameteres\n",
    "param_grid = {\n",
    "    'n_estimators': [20, 50, 75, 100, 150, 200],\n",
    "    'max_depth': [None, 10, 20, 40, 50, 100],\n",
    "    'min_samples_split': [1, 2, 4, 5, 10],\n",
    "    'min_samples_leaf': [1, 3, 6, 9, 12]\n",
    "}\n",
    "\n",
    "grid = GridSearchCV(RandomForestRegressor(), param_grid, cv=5, n_jobs=-1)\n",
    "grid.fit(X_train_scaled, y_train)\n",
    "\n",
    "best_model = grid.best_estimator_\n",
    "print(f'The best model was: {best_model}')\n",
    "print(f'The best scoring was: {grid.best_score_}')"
   ]
  },
  {
   "cell_type": "code",
   "execution_count": 27,
   "id": "8e858db9",
   "metadata": {},
   "outputs": [],
   "source": [
    "# train the model with the data\n",
    "rf_model = RandomForestRegressor(n_estimators=75)\n",
    "rf_model.fit(X_train_scaled, y_train)\n",
    "y_pred = rf_model.predict(X_test_scaled)"
   ]
  },
  {
   "cell_type": "code",
   "execution_count": 28,
   "id": "feda4672",
   "metadata": {},
   "outputs": [
    {
     "name": "stdout",
     "output_type": "stream",
     "text": [
      "The r2 score was:  0.956640715616455\n",
      "The mean absolute error was:  504.5202495912807\n",
      "The mean squared error was:  5162677.423397943\n"
     ]
    }
   ],
   "source": [
    "# evaluate this model with the varous scorings\n",
    "from sklearn.metrics import r2_score, mean_absolute_error, mean_squared_error\n",
    "r2_scoring = r2_score(y_test, y_pred)\n",
    "mae = mean_absolute_error(y_test, y_pred)\n",
    "mse = mean_squared_error(y_test, y_pred)\n",
    "\n",
    "print('The r2 score was: ', r2_scoring)\n",
    "print('The mean absolute error was: ', mae)\n",
    "print('The mean squared error was: ', mse)"
   ]
  },
  {
   "cell_type": "code",
   "execution_count": 29,
   "id": "6ac644c8",
   "metadata": {},
   "outputs": [],
   "source": [
    "import joblib"
   ]
  },
  {
   "cell_type": "code",
   "execution_count": 30,
   "id": "67db24e6",
   "metadata": {},
   "outputs": [
    {
     "data": {
      "text/plain": [
       "['C:\\\\Users\\\\HP\\\\Documents\\\\Models/rf_model.pkl']"
      ]
     },
     "execution_count": 30,
     "metadata": {},
     "output_type": "execute_result"
    }
   ],
   "source": [
    "# save the model\n",
    "joblib.dump(rf_model, r\"C:\\Users\\HP\\Documents\\Models/rf_model.pkl\")"
   ]
  },
  {
   "cell_type": "code",
   "execution_count": null,
   "id": "a9d46029",
   "metadata": {},
   "outputs": [],
   "source": []
  }
 ],
 "metadata": {
  "kernelspec": {
   "display_name": "Python 3 (ipykernel)",
   "language": "python",
   "name": "python3"
  },
  "language_info": {
   "codemirror_mode": {
    "name": "ipython",
    "version": 3
   },
   "file_extension": ".py",
   "mimetype": "text/x-python",
   "name": "python",
   "nbconvert_exporter": "python",
   "pygments_lexer": "ipython3",
   "version": "3.10.9"
  }
 },
 "nbformat": 4,
 "nbformat_minor": 5
}
